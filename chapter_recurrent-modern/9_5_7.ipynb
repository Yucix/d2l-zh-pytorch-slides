{
 "cells": [
  {
   "cell_type": "markdown",
   "id": "5107c944",
   "metadata": {
    "slideshow": {
     "slide_type": "-"
    }
   },
   "source": [
    "# 机器翻译与数据集\n",
    "\n"
   ]
  },
  {
   "cell_type": "code",
   "execution_count": 1,
   "id": "38f128f5",
   "metadata": {
    "execution": {
     "iopub.execute_input": "2023-08-18T07:07:28.568184Z",
     "iopub.status.busy": "2023-08-18T07:07:28.567577Z",
     "iopub.status.idle": "2023-08-18T07:07:30.535405Z",
     "shell.execute_reply": "2023-08-18T07:07:30.534582Z"
    },
    "origin_pos": 2,
    "tab": [
     "pytorch"
    ]
   },
   "outputs": [],
   "source": [
    "import os\n",
    "import torch\n",
    "from d2l import torch as d2l"
   ]
  },
  {
   "cell_type": "markdown",
   "id": "01ab9593",
   "metadata": {
    "slideshow": {
     "slide_type": "slide"
    }
   },
   "source": [
    "下载和预处理数据集"
   ]
  },
  {
   "cell_type": "code",
   "execution_count": 2,
   "id": "b3461d76",
   "metadata": {
    "execution": {
     "iopub.execute_input": "2023-08-18T07:07:30.539676Z",
     "iopub.status.busy": "2023-08-18T07:07:30.539042Z",
     "iopub.status.idle": "2023-08-18T07:07:30.809623Z",
     "shell.execute_reply": "2023-08-18T07:07:30.808727Z"
    },
    "origin_pos": 6,
    "tab": [
     "pytorch"
    ]
   },
   "outputs": [
    {
     "name": "stdout",
     "output_type": "stream",
     "text": [
      "Downloading ../data/fra-eng.zip from http://d2l-data.s3-accelerate.amazonaws.com/fra-eng.zip...\n",
      "Go.\tVa !\n",
      "Hi.\tSalut !\n",
      "Run!\tCours !\n",
      "Run!\tCourez !\n",
      "Who?\tQui ?\n",
      "Wow!\tÇa alors !\n",
      "\n"
     ]
    }
   ],
   "source": [
    "d2l.DATA_HUB['fra-eng'] = (d2l.DATA_URL + 'fra-eng.zip',\n",
    "                           '94646ad1522d915e7b0f9296181140edcf86a4f5')\n",
    "\n",
    "def read_data_nmt():\n",
    "    \"\"\"载入“英语－法语”数据集\"\"\"\n",
    "    data_dir = d2l.download_extract('fra-eng')\n",
    "    with open(os.path.join(data_dir, 'fra.txt'), 'r',\n",
    "             encoding='utf-8') as f:\n",
    "        return f.read()\n",
    "\n",
    "raw_text = read_data_nmt()\n",
    "print(raw_text[:75])"
   ]
  },
  {
   "cell_type": "markdown",
   "id": "4af807f4",
   "metadata": {
    "slideshow": {
     "slide_type": "slide"
    }
   },
   "source": [
    "几个预处理步骤"
   ]
  },
  {
   "cell_type": "code",
   "execution_count": 3,
   "id": "114c461d",
   "metadata": {
    "execution": {
     "iopub.execute_input": "2023-08-18T07:07:30.813835Z",
     "iopub.status.busy": "2023-08-18T07:07:30.813273Z",
     "iopub.status.idle": "2023-08-18T07:07:36.581927Z",
     "shell.execute_reply": "2023-08-18T07:07:36.580959Z"
    },
    "origin_pos": 8,
    "tab": [
     "pytorch"
    ]
   },
   "outputs": [
    {
     "name": "stdout",
     "output_type": "stream",
     "text": [
      "go .\tva !\n",
      "hi .\tsalut !\n",
      "run !\tcours !\n",
      "run !\tcourez !\n",
      "who ?\tqui ?\n",
      "wow !\tça alors !\n"
     ]
    }
   ],
   "source": [
    "def preprocess_nmt(text):\n",
    "    \"\"\"预处理“英语－法语”数据集\"\"\"\n",
    "    def no_space(char, prev_char):\n",
    "        return char in set(',.!?') and prev_char != ' '\n",
    "\n",
    "    text = text.replace('\\u202f', ' ').replace('\\xa0', ' ').lower()\n",
    "    out = [' ' + char if i > 0 and no_space(char, text[i - 1]) else char\n",
    "           for i, char in enumerate(text)]\n",
    "    return ''.join(out)\n",
    "\n",
    "text = preprocess_nmt(raw_text)\n",
    "print(text[:80])"
   ]
  },
  {
   "cell_type": "markdown",
   "id": "7ac5f4f6",
   "metadata": {
    "slideshow": {
     "slide_type": "slide"
    }
   },
   "source": [
    "词元化"
   ]
  },
  {
   "cell_type": "code",
   "execution_count": 4,
   "id": "cc08d1a5",
   "metadata": {
    "execution": {
     "iopub.execute_input": "2023-08-18T07:07:36.585962Z",
     "iopub.status.busy": "2023-08-18T07:07:36.585396Z",
     "iopub.status.idle": "2023-08-18T07:07:37.431130Z",
     "shell.execute_reply": "2023-08-18T07:07:37.430360Z"
    },
    "origin_pos": 10,
    "tab": [
     "pytorch"
    ]
   },
   "outputs": [
    {
     "data": {
      "text/plain": [
       "([['go', '.'],\n",
       "  ['hi', '.'],\n",
       "  ['run', '!'],\n",
       "  ['run', '!'],\n",
       "  ['who', '?'],\n",
       "  ['wow', '!']],\n",
       " [['va', '!'],\n",
       "  ['salut', '!'],\n",
       "  ['cours', '!'],\n",
       "  ['courez', '!'],\n",
       "  ['qui', '?'],\n",
       "  ['ça', 'alors', '!']])"
      ]
     },
     "execution_count": 4,
     "metadata": {},
     "output_type": "execute_result"
    }
   ],
   "source": [
    "def tokenize_nmt(text, num_examples=None):\n",
    "    \"\"\"词元化“英语－法语”数据数据集\"\"\"\n",
    "    source, target = [], []\n",
    "    for i, line in enumerate(text.split('\\n')):\n",
    "        if num_examples and i > num_examples:\n",
    "            break\n",
    "        parts = line.split('\\t')\n",
    "        if len(parts) == 2:\n",
    "            source.append(parts[0].split(' '))\n",
    "            target.append(parts[1].split(' '))\n",
    "    return source, target\n",
    "\n",
    "source, target = tokenize_nmt(text)\n",
    "source[:6], target[:6]"
   ]
  },
  {
   "cell_type": "markdown",
   "id": "0ac793a2",
   "metadata": {
    "slideshow": {
     "slide_type": "slide"
    }
   },
   "source": [
    "绘制每个文本序列所包含的词元数量的直方图"
   ]
  },
  {
   "cell_type": "code",
   "execution_count": 6,
   "id": "118a08f5",
   "metadata": {
    "execution": {
     "iopub.execute_input": "2023-08-18T07:07:37.436349Z",
     "iopub.status.busy": "2023-08-18T07:07:37.435794Z",
     "iopub.status.idle": "2023-08-18T07:07:37.726273Z",
     "shell.execute_reply": "2023-08-18T07:07:37.725467Z"
    },
    "origin_pos": 12,
    "tab": [
     "pytorch"
    ]
   },
   "outputs": [
    {
     "ename": "SyntaxError",
     "evalue": "EOL while scanning string literal (3347824539.py, line 12)",
     "output_type": "error",
     "traceback": [
      "\u001b[0;36m  Cell \u001b[0;32mIn[6], line 12\u001b[0;36m\u001b[0m\n\u001b[0;31m    show_list_len_pair_hist(['source', 'target'], '\u001b[0m\n\u001b[0m                                                   ^\u001b[0m\n\u001b[0;31mSyntaxError\u001b[0m\u001b[0;31m:\u001b[0m EOL while scanning string literal\n"
     ]
    }
   ],
   "source": [
    "def show_list_len_pair_hist(legend, xlabel, ylabel, xlist, ylist):\n",
    "    \"\"\"绘制列表长度对的直方图\"\"\"\n",
    "    d2l.set_figsize()\n",
    "    _, _, patches = d2l.plt.hist(\n",
    "        [[len(l) for l in xlist], [len(l) for l in ylist]])\n",
    "    d2l.plt.xlabel(xlabel)\n",
    "    d2l.plt.ylabel(ylabel)\n",
    "    for patch in patches[1].patches:\n",
    "        patch.set_hatch('/')\n",
    "    d2l.plt.legend(legend)\n",
    "\n",
    "show_list_len_pair_hist(['source', 'target'], '\n",
    "                        'count', source, target);"
   ]
  },
  {
   "cell_type": "markdown",
   "id": "5f236a7f",
   "metadata": {
    "slideshow": {
     "slide_type": "slide"
    }
   },
   "source": [
    "词表"
   ]
  },
  {
   "cell_type": "code",
   "execution_count": 7,
   "id": "1179a522",
   "metadata": {
    "execution": {
     "iopub.execute_input": "2023-08-18T07:07:37.732422Z",
     "iopub.status.busy": "2023-08-18T07:07:37.731864Z",
     "iopub.status.idle": "2023-08-18T07:07:37.957959Z",
     "shell.execute_reply": "2023-08-18T07:07:37.957157Z"
    },
    "origin_pos": 14,
    "tab": [
     "pytorch"
    ]
   },
   "outputs": [
    {
     "data": {
      "text/plain": [
       "10012"
      ]
     },
     "execution_count": 7,
     "metadata": {},
     "output_type": "execute_result"
    }
   ],
   "source": [
    "src_vocab = d2l.Vocab(source, min_freq=2,\n",
    "                      reserved_tokens=['<pad>', '<bos>', '<eos>'])\n",
    "len(src_vocab)"
   ]
  },
  {
   "cell_type": "markdown",
   "id": "5b70a36c",
   "metadata": {
    "slideshow": {
     "slide_type": "slide"
    }
   },
   "source": [
    "序列样本都有一个固定的长度\n",
    "截断或填充文本序列"
   ]
  },
  {
   "cell_type": "code",
   "execution_count": 8,
   "id": "42aa524a",
   "metadata": {
    "execution": {
     "iopub.execute_input": "2023-08-18T07:07:37.962377Z",
     "iopub.status.busy": "2023-08-18T07:07:37.961250Z",
     "iopub.status.idle": "2023-08-18T07:07:37.968643Z",
     "shell.execute_reply": "2023-08-18T07:07:37.967892Z"
    },
    "origin_pos": 16,
    "tab": [
     "pytorch"
    ]
   },
   "outputs": [
    {
     "data": {
      "text/plain": [
       "[3919, 80, 208, 208, 208, 208, 208, 208, 208, 208]"
      ]
     },
     "execution_count": 8,
     "metadata": {},
     "output_type": "execute_result"
    }
   ],
   "source": [
    "def truncate_pad(line, num_steps, padding_token):\n",
    "    \"\"\"截断或填充文本序列\"\"\"\n",
    "    if len(line) > num_steps:\n",
    "        return line[:num_steps]\n",
    "    return line + [padding_token] * (num_steps - len(line))\n",
    "\n",
    "truncate_pad(src_vocab[source[0]], 10, src_vocab['<pad>'])"
   ]
  },
  {
   "cell_type": "markdown",
   "id": "671b345b",
   "metadata": {
    "slideshow": {
     "slide_type": "slide"
    }
   },
   "source": [
    "转换成小批量数据集用于训练"
   ]
  },
  {
   "cell_type": "code",
   "execution_count": 9,
   "id": "db17050b",
   "metadata": {
    "execution": {
     "iopub.execute_input": "2023-08-18T07:07:37.973483Z",
     "iopub.status.busy": "2023-08-18T07:07:37.972873Z",
     "iopub.status.idle": "2023-08-18T07:07:37.978080Z",
     "shell.execute_reply": "2023-08-18T07:07:37.977330Z"
    },
    "origin_pos": 18,
    "tab": [
     "pytorch"
    ]
   },
   "outputs": [],
   "source": [
    "def build_array_nmt(lines, vocab, num_steps):\n",
    "    \"\"\"将机器翻译的文本序列转换成小批量\"\"\"\n",
    "    lines = [vocab[l] for l in lines]\n",
    "    lines = [l + [vocab['<eos>']] for l in lines]\n",
    "    array = torch.tensor([truncate_pad(\n",
    "        l, num_steps, vocab['<pad>']) for l in lines])\n",
    "    valid_len = (array != vocab['<pad>']).type(torch.int32).sum(1)\n",
    "    return array, valid_len"
   ]
  },
  {
   "cell_type": "markdown",
   "id": "7057899d",
   "metadata": {
    "slideshow": {
     "slide_type": "slide"
    }
   },
   "source": [
    "训练模型"
   ]
  },
  {
   "cell_type": "code",
   "execution_count": 16,
   "id": "8addcc51",
   "metadata": {
    "execution": {
     "iopub.execute_input": "2023-08-18T07:07:37.982873Z",
     "iopub.status.busy": "2023-08-18T07:07:37.982349Z",
     "iopub.status.idle": "2023-08-18T07:07:37.988101Z",
     "shell.execute_reply": "2023-08-18T07:07:37.987357Z"
    },
    "origin_pos": 20,
    "tab": [
     "pytorch"
    ]
   },
   "outputs": [],
   "source": [
    "def load_data_nmt(batch_size, num_steps, num_examples=600):\n",
    "    \"\"\"返回翻译数据集的迭代器和词表\"\"\"\n",
    "    text = preprocess_nmt(read_data_nmt())\n",
    "    source, target = tokenize_nmt(text, num_examples)\n",
    "    src_vocab = d2l.Vocab(source, min_freq=2,\n",
    "                          reserved_tokens=['<pad>', '<bos>', '<eos>'])\n",
    "    tgt_vocab = d2l.Vocab(target, min_freq=2,\n",
    "                          reserved_tokens=['<pad>', '<bos>', '<eos>'])\n",
    "    src_array, src_valid_len = build_array_nmt(source, src_vocab, num_steps)\n",
    "    tgt_array, tgt_valid_len = build_array_nmt(target, tgt_vocab, num_steps)\n",
    "    data_arrays = (src_array, src_valid_len, tgt_array, tgt_valid_len)\n",
    "    data_iter = d2l.load_array(data_arrays, batch_size)\n",
    "    return data_iter, src_vocab, tgt_vocab"
   ]
  },
  {
   "cell_type": "markdown",
   "id": "629bfa85",
   "metadata": {
    "slideshow": {
     "slide_type": "slide"
    }
   },
   "source": [
    "读出“英语－法语”数据集中的第一个小批量数据"
   ]
  },
  {
   "cell_type": "code",
   "execution_count": 17,
   "id": "90df834d",
   "metadata": {
    "execution": {
     "iopub.execute_input": "2023-08-18T07:07:37.992732Z",
     "iopub.status.busy": "2023-08-18T07:07:37.992204Z",
     "iopub.status.idle": "2023-08-18T07:07:43.780428Z",
     "shell.execute_reply": "2023-08-18T07:07:43.779613Z"
    },
    "origin_pos": 22,
    "tab": [
     "pytorch"
    ]
   },
   "outputs": [
    {
     "name": "stdout",
     "output_type": "stream",
     "text": [
      "X: tensor([[ 59,  14,   0,   4,   5,   5,   5,   5],\n",
      "        [ 74,  88,   0,   4,   5,   5,   5,   5],\n",
      "        [150, 106,   2,   4,   5,   5,   5,   5]], dtype=torch.int32)\n",
      "X的有效长度: tensor([4, 4, 4])\n",
      "Y: tensor([[131,   0,   4,   5,   5,   5,   5,   5],\n",
      "        [123,   6, 140,   0,   4,   5,   5,   5],\n",
      "        [  6,   0,   4,   5,   5,   5,   5,   5]], dtype=torch.int32)\n",
      "Y的有效长度: tensor([3, 5, 3])\n"
     ]
    }
   ],
   "source": [
    "train_iter, src_vocab, tgt_vocab = load_data_nmt(batch_size=3, num_steps=8)\n",
    "for X, X_valid_len, Y, Y_valid_len in train_iter:\n",
    "    print('X:', X.type(torch.int32))\n",
    "    print('X的有效长度:', X_valid_len)\n",
    "    print('Y:', Y.type(torch.int32))\n",
    "    print('Y的有效长度:', Y_valid_len)\n",
    "    break"
   ]
  },
  {
   "cell_type": "code",
   "execution_count": 20,
   "id": "074d4cb1",
   "metadata": {},
   "outputs": [
    {
     "name": "stdout",
     "output_type": "stream",
     "text": [
      "184\n",
      "201\n",
      "40\n",
      "40\n"
     ]
    }
   ],
   "source": [
    "_, src_vocab_600, tgt_vocab_600=load_data_nmt(batch_size=3, num_steps=8, num_examples=600)\n",
    "print(len(src_vocab_600))\n",
    "print(len(tgt_vocab_600))\n",
    "_, src_vocab_100, tgt_vocab_100=load_data_nmt(batch_size=3, num_steps=8, num_examples=100)\n",
    "print(len(src_vocab_100))\n",
    "print(len(tgt_vocab_100))"
   ]
  },
  {
   "cell_type": "code",
   "execution_count": null,
   "id": "902d09fd",
   "metadata": {},
   "outputs": [],
   "source": [
    "# num_examples 减小，源语言词表长度和目标语言词语表长度都减小"
   ]
  }
 ],
 "metadata": {
  "celltoolbar": "Slideshow",
  "kernelspec": {
   "display_name": "xyx",
   "language": "python",
   "name": "python3"
  },
  "language_info": {
   "codemirror_mode": {
    "name": "ipython",
    "version": 3
   },
   "file_extension": ".py",
   "mimetype": "text/x-python",
   "name": "python",
   "nbconvert_exporter": "python",
   "pygments_lexer": "ipython3",
   "version": "3.8.20"
  },
  "required_libs": [],
  "rise": {
   "autolaunch": true,
   "enable_chalkboard": true,
   "overlay": "<div class='my-top-right'><img height=80px src='http://d2l.ai/_static/logo-with-text.png'/></div><div class='my-top-left'></div>",
   "scroll": true
  }
 },
 "nbformat": 4,
 "nbformat_minor": 5
}
